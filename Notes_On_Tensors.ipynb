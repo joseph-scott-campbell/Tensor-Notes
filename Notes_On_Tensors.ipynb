{
 "cells": [
  {
   "cell_type": "code",
   "execution_count": 1,
   "metadata": {},
   "outputs": [],
   "source": [
    "# importing tensorflow under alias of tf\n",
    "import tensorflow as tf"
   ]
  },
  {
   "cell_type": "markdown",
   "metadata": {},
   "source": [
    "# Tensors\n",
    "\n",
    "* A tensor is a vector generalized to higher dementions\n",
    "* A tensor is represent as a n-dimensional array of base datatypes\n",
    "* A vector is essentially a datapoint\n",
    "* A vector can have any number of demensions"
   ]
  },
  {
   "cell_type": "markdown",
   "metadata": {},
   "source": [
    "# Implementation of Tensors\n",
    "* Each tensor has a datatype and shape\n",
    "* It is rare to see a tensor with a non-number datatype\n",
    "* Will almost always be float32 or int32"
   ]
  },
  {
   "cell_type": "markdown",
   "metadata": {},
   "source": [
    "# Rank/Degree of Tensors\n",
    "* Rank and Degree are synonyms\n",
    "* Rank numbers can be thought of like dimensions; ie rank 0 is a point with 0 dimensions, rank 1 is a line with one dimension\n",
    "* Rank in a tensor with this implementation can be found by looking at the deepest level of nested lists"
   ]
  },
  {
   "cell_type": "code",
   "execution_count": 3,
   "metadata": {},
   "outputs": [],
   "source": [
    "# Example of creating rank 0 tensors\n",
    "# Each one of these tensors only has one variable\n",
    "# The datatype is defined by an argument passed to the \"Variable\" function last\n",
    "rank_0_string = tf.Variable(\"this is a string\", tf.string) # rare, but possible string datatype\n",
    "rank_0_int = tf.Variable(324, tf.int16) # 16 bit int\n",
    "rank_0_float = tf.Variable(3.567, tf.float64)"
   ]
  },
  {
   "cell_type": "code",
   "execution_count": 6,
   "metadata": {},
   "outputs": [],
   "source": [
    "# Examples of Creating Rank 1 Tensors\n",
    "# Each of these tensors have one array, and one dimension\n",
    "rank_1_string = tf.Variable([\"this\", \"is,\", \"a\", \"string\"], tf.string)\n",
    "rank_1_int = tf.Variable([1, 2, 3, 4 ,5], tf.int16)\n",
    "rank_1_float = tf.Variable([1.1, 2.2, 3.3, 4.4, 5.5], tf.float64)"
   ]
  },
  {
   "cell_type": "code",
   "execution_count": 8,
   "metadata": {},
   "outputs": [],
   "source": [
    "# Rank 2 Tensors, a nested list that is 1 deep\n",
    "rank_2_string = tf.Variable([[\"this\", \"is\"], [\"a\", \"string\"]], tf.string)\n",
    "rank_2_int = tf.Variable([1, 2, 3], [4, 5], tf.int16)\n",
    "rank_2_float = tf.Variable([[1.1, 2.2, 3.3, 4.4, 5.5]], tf.float64)"
   ]
  },
  {
   "cell_type": "code",
   "execution_count": 9,
   "metadata": {},
   "outputs": [
    {
     "name": "stdout",
     "output_type": "stream",
     "text": [
      "tf.Tensor(0, shape=(), dtype=int32)\n",
      "tf.Tensor(1, shape=(), dtype=int32)\n",
      "tf.Tensor(2, shape=(), dtype=int32)\n"
     ]
    }
   ],
   "source": [
    "# The rank of tensor can be found with tf.rank()\n",
    "print(tf.rank(rank_0_string))\n",
    "print(tf.rank(rank_1_string))\n",
    "print(tf.rank(rank_2_string))"
   ]
  },
  {
   "cell_type": "markdown",
   "metadata": {},
   "source": [
    "# Shape of a Tensor\n",
    "* How many items in each dimension\n",
    "* Different from rank"
   ]
  },
  {
   "cell_type": "code",
   "execution_count": 18,
   "metadata": {},
   "outputs": [
    {
     "name": "stdout",
     "output_type": "stream",
     "text": [
      "()\n",
      "(4,)\n",
      "(2, 2)\n"
     ]
    }
   ],
   "source": [
    "# shape of a tensor can be found using `<tensor_name>.shape`\n",
    "# the aasnt of numbers it outputs is also the rank\n",
    "print(rank_0_string.shape)\n",
    "print(rank_1_string.shape) \n",
    "print(rank_2_string.shape)"
   ]
  },
  {
   "cell_type": "markdown",
   "metadata": {},
   "source": [
    "# Disecting Above Output\n",
    "\n",
    "The first output was `()` because it is a rank 0 tensor, so it does not have a shape. The second output was `(4,)` because there were found items in one array. The last output was `(2, 2)` because there are two items in two arrays."
   ]
  },
  {
   "cell_type": "markdown",
   "metadata": {},
   "source": [
    "# Changing Shape\n",
    "\n",
    "* Many different shapes can represent the same number of elements\n",
    "* Flattening will put all elements into a Rank 1 Tensor\n",
    "\n",
    "# `tf.reshape`\n",
    "* `tf.reshape` takes the following args in this order, `<tensor_to_be_changed>, <shape>`\n",
    "* -1 will infer the shape based on already supplied data"
   ]
  },
  {
   "cell_type": "code",
   "execution_count": 21,
   "metadata": {},
   "outputs": [],
   "source": [
    "tensor1 = tf.ones([1, 2, 3]) # tf.ones() creates a shape [1, 2, 3] tensor full of ones\n",
    "tensor2 = tf.reshape(tensor1, [2,3,1]) # reshape exisiting data to shape [2,3,1]\n",
    "tensor3 = tf.reshape(tensor2, [3, -1]) # -1 tells the tensor to calculate the size of the dimension in that place\n",
    "                                       # this will reshape the tensor to [3,2]"
   ]
  },
  {
   "cell_type": "code",
   "execution_count": 22,
   "metadata": {},
   "outputs": [
    {
     "name": "stdout",
     "output_type": "stream",
     "text": [
      "tf.Tensor(\n",
      "[[[1. 1. 1.]\n",
      "  [1. 1. 1.]]], shape=(1, 2, 3), dtype=float32)\n",
      "tf.Tensor(\n",
      "[[[1.]\n",
      "  [1.]\n",
      "  [1.]]\n",
      "\n",
      " [[1.]\n",
      "  [1.]\n",
      "  [1.]]], shape=(2, 3, 1), dtype=float32)\n",
      "tf.Tensor(\n",
      "[[1. 1.]\n",
      " [1. 1.]\n",
      " [1. 1.]], shape=(3, 2), dtype=float32)\n"
     ]
    }
   ],
   "source": [
    "print(tensor1)\n",
    "print(tensor2)\n",
    "print(tensor3)"
   ]
  },
  {
   "cell_type": "markdown",
   "metadata": {},
   "source": [
    "# Types of Tensors\n",
    "* "
   ]
  }
 ],
 "metadata": {
  "kernelspec": {
   "display_name": "Python 3",
   "language": "python",
   "name": "python3"
  },
  "language_info": {
   "codemirror_mode": {
    "name": "ipython",
    "version": 3
   },
   "file_extension": ".py",
   "mimetype": "text/x-python",
   "name": "python",
   "nbconvert_exporter": "python",
   "pygments_lexer": "ipython3",
   "version": "3.8.10"
  }
 },
 "nbformat": 4,
 "nbformat_minor": 2
}
